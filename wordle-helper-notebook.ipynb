{
 "cells": [
  {
   "cell_type": "code",
   "execution_count": 1,
   "metadata": {},
   "outputs": [],
   "source": [
    "import wordlehelper as wh"
   ]
  },
  {
   "cell_type": "code",
   "execution_count": 2,
   "metadata": {},
   "outputs": [],
   "source": [
    "df = wh.generate_df()"
   ]
  },
  {
   "cell_type": "code",
   "execution_count": 7,
   "metadata": {},
   "outputs": [
    {
     "name": "stdout",
     "output_type": "stream",
     "text": [
      "         score   word\n",
      "2709  0.231986  sculp\n",
      "2847  0.223416  slump\n",
      "3049  0.210863  sulky\n",
      "2708  0.198129  scull\n",
      "2825  0.177127  skull\n"
     ]
    }
   ],
   "source": [
    "contained = 'sl' # add letter to string, todo: repeated letters\n",
    "excluded = 'raieoth' # add letter to string\n",
    "position = 's....' # replace dot with letter\n",
    "\n",
    "wh.show_words(df, contained, excluded, position)"
   ]
  },
  {
   "cell_type": "code",
   "execution_count": null,
   "metadata": {},
   "outputs": [],
   "source": []
  }
 ],
 "metadata": {
  "kernelspec": {
   "display_name": "Python 3",
   "language": "python",
   "name": "python3"
  },
  "language_info": {
   "codemirror_mode": {
    "name": "ipython",
    "version": 3
   },
   "file_extension": ".py",
   "mimetype": "text/x-python",
   "name": "python",
   "nbconvert_exporter": "python",
   "pygments_lexer": "ipython3",
   "version": "3.6.6"
  }
 },
 "nbformat": 4,
 "nbformat_minor": 2
}
